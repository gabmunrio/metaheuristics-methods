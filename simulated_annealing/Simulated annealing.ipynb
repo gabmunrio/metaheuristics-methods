{
 "metadata": {
  "name": "",
  "signature": "sha256:7bd6a8830f9c10982ac5fa9d372c08fb321afd257ae8fc2e2ebb369a86665bf5"
 },
 "nbformat": 3,
 "nbformat_minor": 0,
 "worksheets": [
  {
   "cells": [
    {
     "cell_type": "code",
     "collapsed": false,
     "input": [
      "from __future__ import print_function\n",
      "from simanneal import Annealer\n",
      "\n",
      "\n",
      "import math\n",
      "import random"
     ],
     "language": "python",
     "metadata": {},
     "outputs": [],
     "prompt_number": 1
    },
    {
     "cell_type": "code",
     "collapsed": false,
     "input": [
      "def distance(a, b):\n",
      "    \"\"\"Calculates distance between two latitude-longitude coordinates.\"\"\"\n",
      "    R = 3963  # radius of Earth (miles)\n",
      "    lat1, lon1 = math.radians(a[0]), math.radians(a[1])\n",
      "    lat2, lon2 = math.radians(b[0]), math.radians(b[1])\n",
      "    return math.acos(math.sin(lat1) * math.sin(lat2) +\n",
      "                     math.cos(lat1) * math.cos(lat2) *\n",
      "                     math.cos(lon1 - lon2)) * R\n",
      "\n",
      "\n",
      "class TravellingSalesmanProblem(Annealer):\n",
      "    \"\"\"Test annealer with a travelling salesman problem\"\"\"\n",
      "    # pass extra data (the distance matrix) into the constructor\n",
      "    def __init__(self, state, distance_matrix):\n",
      "        self.distance_matrix = distance_matrix\n",
      "        super(TravellingSalesmanProblem, self).__init__(state)  # important!\n",
      "\n",
      "    def move(self):\n",
      "        \"\"\"Swaps two cities in the route.\"\"\"\n",
      "        a = random.randint(0, len(self.state) - 1)\n",
      "        b = random.randint(0, len(self.state) - 1)\n",
      "        self.state[a], self.state[b] = self.state[b], self.state[a]\n",
      "\n",
      "    def energy(self):\n",
      "        \"\"\"Calculates the length of the route.\"\"\"\n",
      "        e = 0\n",
      "        for i in range(len(self.state)):\n",
      "            e += self.distance_matrix[self.state[i - 1]][self.state[i]]\n",
      "        return e"
     ],
     "language": "python",
     "metadata": {},
     "outputs": [],
     "prompt_number": 2
    },
    {
     "cell_type": "code",
     "collapsed": false,
     "input": [
      "# latitude and longitude for the twenty largest spanish cities (2010)\n",
      "cities = {\n",
      "    'Madrid': (40.41669, -3.700346),\n",
      "    'Barcelona': (41.38792, 2.169919),\n",
      "    'Valencia': (39.47024, -0.3768049),\n",
      "    'Sevilla': (37.38264, -5.996295),\n",
      "    'Zaragoza': (41.65629, -0.8765379),\n",
      "    'Malaga': (36.71965, -4.420019),\n",
      "    'Murcia': (37.98344, -1.12989),\n",
      "    'Palma': (39.56951, 2.649966),\n",
      "    'Palmas de Gran Canaria (Las)': (28.12482, -15.43001),\n",
      "    'Bilbao': (43.25696, -2.923441),\n",
      "    'Alicante': (38.3452, -0.481006),\n",
      "    'Cordoba': (37.88473, -4.779152),\n",
      "    'Valladolid': (41.65295, -4.728388),\n",
      "    'Vigo': (42.23136, -8.712447),\n",
      "    'Gijon': (43.54526, -5.661926),\n",
      "    'Hospitalet de Llobregat': (41.35958, 2.099704),\n",
      "    'Coruna (A)': (43.37087, -8.395835),\n",
      "    'Vitoria-Gasteiz': (42.84641, -2.667893),\n",
      "    'Granada': (37.17649, -3.597929),\n",
      "}\n",
      "\n",
      "# initial state, a randomly-ordered itinerary\n",
      "init_state = list(cities.keys())\n",
      "random.shuffle(init_state)\n",
      "\n",
      "# create a distance matrix\n",
      "distance_matrix = {}\n",
      "for ka, va in cities.items():\n",
      "    distance_matrix[ka] = {}\n",
      "    for kb, vb in cities.items():\n",
      "        if kb == ka:\n",
      "            distance_matrix[ka][kb] = 0.0\n",
      "        else:\n",
      "            distance_matrix[ka][kb] = distance(va, vb)\n",
      "\n",
      "tsp = TravellingSalesmanProblem(init_state, distance_matrix)\n",
      "# since our state is just a list, slice is the fastest way to copy\n",
      "tsp.copy_strategy = \"slice\"\n",
      "\n",
      "# Values for the parameters by default\n",
      "# Tmax = 25000.0\n",
      "# Tmin = 2.5\n",
      "# steps = 50000\n",
      "# updates = 100\n",
      "# Change the parameters to see the results\n",
      "# tsp.Tmax = 10000000\n",
      "# tsp.Tmin = 0.00000001\n",
      "# tsp.steps = 5\n",
      "# tsp.updates = 2\n",
      "state, e = tsp.anneal()\n",
      "\n",
      "print(\"%i mile route:\" % e)\n",
      "for city in state:\n",
      "    print(\"\\t\", city)"
     ],
     "language": "python",
     "metadata": {},
     "outputs": [
      {
       "output_type": "stream",
       "stream": "stdout",
       "text": [
        " Temperature        Energy    Accept   Improve     Elapsed   Remaining\n",
        "    25000.00       7119.28                         0:00:00            \n",
        "    22800.27       7960.02    99.60%    49.20%     0:00:00     0:00:01\n",
        "    20794.09       7558.68    99.80%    48.00%     0:00:00     0:00:01\n",
        "    18964.44       8057.10    99.20%    47.20%     0:00:00     0:00:01\n",
        "    17295.77       7193.45    98.60%    47.00%     0:00:00     0:00:01\n",
        "    15773.93       7173.55   100.00%    46.00%     0:00:00     0:00:01\n",
        "    14386.00       8127.23    98.80%    47.60%     0:00:00     0:00:01"
       ]
      },
      {
       "output_type": "stream",
       "stream": "stdout",
       "text": [
        "\n",
        "    13120.19       7689.91    98.80%    46.00%     0:00:00     0:00:01\n",
        "    11965.75       7690.13    99.80%    47.40%     0:00:00     0:00:01\n",
        "    10912.90       8213.12    99.40%    48.00%     0:00:00     0:00:01\n",
        "     9952.68       8334.01    98.40%    44.40%     0:00:00     0:00:01\n",
        "     9076.95       6380.16    98.60%    47.40%     0:00:00     0:00:01"
       ]
      },
      {
       "output_type": "stream",
       "stream": "stdout",
       "text": [
        "\n",
        "     8278.28       7306.34    99.40%    48.40%     0:00:00     0:00:01\n",
        "     7549.88       7404.95    99.20%    47.60%     0:00:00     0:00:01\n",
        "     6885.57       7997.59    98.60%    46.20%     0:00:00     0:00:01\n",
        "     6279.72       7297.39    98.40%    49.00%     0:00:00     0:00:01\n",
        "     5727.17       7980.12    98.40%    44.80%     0:00:00     0:00:01"
       ]
      },
      {
       "output_type": "stream",
       "stream": "stdout",
       "text": [
        "\n",
        "     5223.24       8044.66    96.60%    44.00%     0:00:00     0:00:01\n",
        "     4763.65       8168.80    98.60%    45.80%     0:00:00     0:00:01\n",
        "     4344.50       7858.83    96.60%    47.20%     0:00:00     0:00:01\n",
        "     3962.23       7377.14    96.40%    46.40%     0:00:00     0:00:01\n",
        "     3613.60       7501.86    96.40%    45.00%     0:00:00     0:00:01"
       ]
      },
      {
       "output_type": "stream",
       "stream": "stdout",
       "text": [
        "\n",
        "     3295.64       7654.35    95.80%    43.60%     0:00:00     0:00:01\n",
        "     3005.66       6592.81    96.20%    44.40%     0:00:00     0:00:01\n",
        "     2741.20       7089.24    94.20%    43.80%     0:00:00     0:00:01\n",
        "     2500.00       6533.10    95.40%    46.20%     0:00:00     0:00:01\n",
        "     2280.03       7044.73    95.60%    45.40%     0:00:00     0:00:01"
       ]
      },
      {
       "output_type": "stream",
       "stream": "stdout",
       "text": [
        "\n",
        "     2079.41       7398.90    94.00%    43.00%     0:00:00     0:00:01\n",
        "     1896.44       6001.44    95.00%    44.80%     0:00:00     0:00:01\n",
        "     1729.58       7774.96    91.00%    46.40%     0:00:00     0:00:01\n",
        "     1577.39       7839.87    92.60%    43.80%     0:00:00     0:00:01\n",
        "     1438.60       6567.33    90.80%    43.20%     0:00:00     0:00:01\n",
        "     1312.02       7503.64    92.40%    44.40%     0:00:00     0:00:01"
       ]
      },
      {
       "output_type": "stream",
       "stream": "stdout",
       "text": [
        "\n",
        "     1196.58       6737.78    92.60%    41.20%     0:00:00     0:00:01\n",
        "     1091.29       7404.81    89.00%    40.20%     0:00:00     0:00:01\n",
        "      995.27       7200.95    87.40%    40.00%     0:00:00     0:00:01\n",
        "      907.70       6959.65    85.80%    40.60%     0:00:00     0:00:01\n",
        "      827.83       6343.01    84.00%    41.80%     0:00:00     0:00:01"
       ]
      },
      {
       "output_type": "stream",
       "stream": "stdout",
       "text": [
        "\n",
        "      754.99       7708.89    83.80%    38.80%     0:00:00     0:00:01\n",
        "      688.56       6787.28    82.20%    37.80%     0:00:00     0:00:01\n",
        "      627.97       7237.59    80.20%    39.40%     0:00:00     0:00:01\n",
        "      572.72       6499.00    80.80%    38.20%     0:00:00     0:00:01\n",
        "      522.32       6738.72    79.80%    38.20%     0:00:00     0:00:01"
       ]
      },
      {
       "output_type": "stream",
       "stream": "stdout",
       "text": [
        "\n",
        "      476.37       7233.00    78.00%    36.00%     0:00:00     0:00:01\n",
        "      434.45       7503.88    76.80%    36.00%     0:00:00     0:00:01\n",
        "      396.22       7212.59    65.60%    29.60%     0:00:00     0:00:01\n",
        "      361.36       7356.77    66.40%    30.80%     0:00:00     0:00:01\n",
        "      329.56       6552.80    71.20%    32.40%     0:00:01     0:00:01"
       ]
      },
      {
       "output_type": "stream",
       "stream": "stdout",
       "text": [
        "\n",
        "      300.57       6828.79    65.20%    30.20%     0:00:01     0:00:01\n",
        "      274.12       5463.77    63.00%    28.80%     0:00:01     0:00:01\n",
        "      250.00       6263.40    50.80%    20.00%     0:00:01     0:00:01\n",
        "      228.00       6456.02    50.40%    22.80%     0:00:01     0:00:01\n",
        "      207.94       6248.23    39.60%    17.00%     0:00:01     0:00:01"
       ]
      },
      {
       "output_type": "stream",
       "stream": "stdout",
       "text": [
        "\n",
        "      189.64       6012.17    41.40%    17.00%     0:00:01     0:00:01\n",
        "      172.96       5791.84    45.20%    19.80%     0:00:01     0:00:00\n",
        "      157.74       5332.20    27.20%    11.00%     0:00:01     0:00:00\n",
        "      143.86       5016.67    27.80%    11.60%     0:00:01     0:00:00\n",
        "      131.20       5196.16    39.40%    17.20%     0:00:01     0:00:00"
       ]
      },
      {
       "output_type": "stream",
       "stream": "stdout",
       "text": [
        "\n",
        "      119.66       5405.64    26.20%    11.40%     0:00:01     0:00:00\n",
        "      109.13       5086.34    21.60%     8.00%     0:00:01     0:00:00\n",
        "       99.53       4822.52    26.60%    11.00%     0:00:01     0:00:00\n",
        "       90.77       4548.47    22.40%     9.60%     0:00:01     0:00:00\n",
        "       82.78       4448.20    16.80%     5.60%     0:00:01     0:00:00"
       ]
      },
      {
       "output_type": "stream",
       "stream": "stdout",
       "text": [
        "\n",
        "       75.50       4859.17    21.60%     6.00%     0:00:01     0:00:00\n",
        "       68.86       4023.47    15.60%     4.80%     0:00:01     0:00:00\n",
        "       62.80       4216.54    12.00%     4.20%     0:00:01     0:00:00"
       ]
      },
      {
       "output_type": "stream",
       "stream": "stdout",
       "text": [
        "\n",
        "       57.27       4283.07    13.20%     3.80%     0:00:01     0:00:00\n",
        "       52.23       4350.84    10.60%     3.00%     0:00:01     0:00:00\n",
        "       47.64       3982.82     9.20%     1.80%     0:00:01     0:00:00\n",
        "       43.45       4337.05     9.20%     2.40%     0:00:01     0:00:00\n",
        "       39.62       4263.20    11.00%     3.20%     0:00:01     0:00:00"
       ]
      },
      {
       "output_type": "stream",
       "stream": "stdout",
       "text": [
        "\n",
        "       36.14       4111.95    10.20%     2.20%     0:00:01     0:00:00\n",
        "       32.96       3962.66    10.20%     2.20%     0:00:01     0:00:00\n",
        "       30.06       3838.20     9.20%     2.40%     0:00:01     0:00:00\n",
        "       27.41       3715.12     7.00%     1.40%     0:00:01     0:00:00\n",
        "       25.00       3642.62     5.80%     0.60%     0:00:01     0:00:00"
       ]
      },
      {
       "output_type": "stream",
       "stream": "stdout",
       "text": [
        "\n",
        "       22.80       3644.82     6.80%     0.60%     0:00:01     0:00:00\n",
        "       20.79       3689.96     7.60%     0.80%     0:00:01     0:00:00\n",
        "       18.96       3612.92     8.00%     0.80%     0:00:01     0:00:00\n",
        "       17.30       3615.12     6.60%     0.40%     0:00:01     0:00:00\n",
        "       15.77       3612.92     5.20%     0.40%     0:00:01     0:00:00"
       ]
      },
      {
       "output_type": "stream",
       "stream": "stdout",
       "text": [
        "\n",
        "       14.39       3615.12     4.40%     0.20%     0:00:01     0:00:00\n",
        "       13.12       3612.92     6.00%     0.40%     0:00:01     0:00:00\n",
        "       11.97       3615.12     6.20%     0.00%     0:00:01     0:00:00\n",
        "       10.91       3615.12     6.80%     0.20%     0:00:01     0:00:00\n",
        "        9.95       3615.12     7.00%     0.20%     0:00:01     0:00:00"
       ]
      },
      {
       "output_type": "stream",
       "stream": "stdout",
       "text": [
        "\n",
        "        9.08       3612.92     6.80%     0.20%     0:00:01     0:00:00\n",
        "        8.28       3612.92     5.60%     0.20%     0:00:01     0:00:00\n",
        "        7.55       3615.12     5.40%     0.40%     0:00:01     0:00:00\n",
        "        6.89       3612.92     5.80%     0.40%     0:00:01     0:00:00\n",
        "        6.28       3612.92     6.60%     0.40%     0:00:01     0:00:00"
       ]
      },
      {
       "output_type": "stream",
       "stream": "stdout",
       "text": [
        "\n",
        "        5.73       3612.92     7.20%     0.60%     0:00:01     0:00:00\n",
        "        5.22       3615.12     7.40%     0.40%     0:00:01     0:00:00\n",
        "        4.76       3612.92     6.60%     0.60%     0:00:01     0:00:00\n",
        "        4.34       3615.12     6.40%     0.20%     0:00:01     0:00:00\n",
        "        3.96       3612.92     6.20%     0.40%     0:00:01     0:00:00"
       ]
      },
      {
       "output_type": "stream",
       "stream": "stdout",
       "text": [
        "\n",
        "        3.61       3612.92     4.80%     0.20%     0:00:01     0:00:00\n",
        "        3.30       3612.92     8.00%     0.20%     0:00:01     0:00:00\n",
        "        3.01       3612.92     7.20%     0.00%     0:00:01     0:00:00\n",
        "        2.74       3615.12     5.60%     0.00%     0:00:01     0:00:00\n",
        "        2.50       3612.92     5.60%     0.60%     0:00:01     0:00:00"
       ]
      },
      {
       "output_type": "stream",
       "stream": "stdout",
       "text": [
        "\n",
        "3612 mile route:\n",
        "\t Malaga\n",
        "\t Granada\n",
        "\t Murcia\n",
        "\t Alicante\n",
        "\t Valencia\n",
        "\t Palma\n",
        "\t Barcelona\n",
        "\t Hospitalet de Llobregat\n",
        "\t Zaragoza\n",
        "\t Madrid\n",
        "\t Valladolid\n",
        "\t Vitoria-Gasteiz\n",
        "\t Bilbao\n",
        "\t Gijon\n",
        "\t Coruna (A)\n",
        "\t Vigo\n",
        "\t Palmas de Gran Canaria (Las)\n",
        "\t Sevilla\n",
        "\t Cordoba\n"
       ]
      }
     ],
     "prompt_number": 43
    }
   ],
   "metadata": {}
  }
 ]
}