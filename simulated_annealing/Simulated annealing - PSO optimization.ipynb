{
 "metadata": {
  "name": "",
  "signature": "sha256:c24a3b4d97f3ef37379e604eb77ba72401153367ab8fff8578e1a410d42337fe"
 },
 "nbformat": 3,
 "nbformat_minor": 0,
 "worksheets": [
  {
   "cells": [
    {
     "cell_type": "code",
     "collapsed": false,
     "input": [
      "from numpy import array\n",
      "import random\n",
      "import math\n",
      "from math import sin, sqrt\n",
      "\n",
      "# latitude and longitude for the twenty largest spanish cities (2010)\n",
      "cities = {\n",
      "    'Madrid': (40.41669, -3.700346),\n",
      "    'Barcelona': (41.38792, 2.169919),\n",
      "    'Valencia': (39.47024, -0.3768049),\n",
      "    'Sevilla': (37.38264, -5.996295),\n",
      "    'Zaragoza': (41.65629, -0.8765379),\n",
      "    'Malaga': (36.71965, -4.420019),\n",
      "    'Murcia': (37.98344, -1.12989),\n",
      "    'Palma': (39.56951, 2.649966),\n",
      "    'Palmas de Gran Canaria (Las)': (28.12482, -15.43001),\n",
      "    'Bilbao': (43.25696, -2.923441),\n",
      "    'Alicante': (38.3452, -0.481006),\n",
      "    'Cordoba': (37.88473, -4.779152),\n",
      "    'Valladolid': (41.65295, -4.728388),\n",
      "    'Vigo': (42.23136, -8.712447),\n",
      "    'Gijon': (43.54526, -5.661926),\n",
      "    'Hospitalet de Llobregat': (41.35958, 2.099704),\n",
      "    'Coruna (A)': (43.37087, -8.395835),\n",
      "    'Vitoria-Gasteiz': (42.84641, -2.667893),\n",
      "    'Granada': (37.17649, -3.597929),\n",
      "}\n",
      "\n",
      "# initial_state = ['New York', 'Los Angeles', 'Boston', 'Houston']\n",
      "# tsp = TravellingSalesmanProblem(initial_state)\n",
      "\n",
      "# tsp = TravellingSalesmanProblem(init_state, distance_matrix)\n",
      "# since our state is just a list, slice is the fastest way to copy\n",
      "# tsp.copy_strategy = \"slice\"\n",
      "# Values for the parameters by default\n",
      "# Tmax = 25000.0\n",
      "# Tmin = 2.5\n",
      "# steps = 50000\n",
      "# updates = 100\n",
      "# Change the parameters to see the results\n",
      "# tsp.Tmax = 10\n",
      "# tsp.Tmin = 20\n",
      "# tsp.steps = 0\n",
      "# tsp.updates = 5\n",
      "# state, e = tsp.anneal()\n",
      "\n",
      "def distance(a, b):\n",
      "    \"\"\"Calculates distance between two latitude-longitude coordinates.\"\"\"\n",
      "    R = 3963  # radius of Earth (miles)\n",
      "    lat1, lon1 = math.radians(a[0]), math.radians(a[1])\n",
      "    lat2, lon2 = math.radians(b[0]), math.radians(b[1])\n",
      "    return math.acos(math.sin(lat1) * math.sin(lat2) +\n",
      "                     math.cos(lat1) * math.cos(lat2) *\n",
      "                     math.cos(lon1 - lon2)) * R\n",
      "\n",
      "def move(state):\n",
      "    \"\"\"Swaps two cities in the route.\"\"\"\n",
      "    a = random.randint(0, len(state) - 1)\n",
      "    b = random.randint(0, len(state) - 1)\n",
      "    state[a], state[b] = state[b], state[a]\n",
      "\n",
      "def energy(state):\n",
      "    \"\"\"Calculates the length of the route.\"\"\"\n",
      "    e = 0\n",
      "    for i in range(len(state)):\n",
      "        e += distance_matrix[state[i-1]][state[i]]\n",
      "    return e\n",
      "\n",
      "def sim_anneal(p):\n",
      "    \"\"\"Anneals a system at constant temperature and returns the state,\n",
      "    energy, rate of acceptance, and rate of improvement.\"\"\"\n",
      "    Tmax = p.params[0]\n",
      "    Tmin = p.params[1]\n",
      "    state = p.state\n",
      "    E = energy(state)\n",
      "    prevState = state[:]\n",
      "    prevEnergy = E\n",
      "    bestState = state[:]\n",
      "    bestEnergy = E\n",
      "    accepts, improves = 0, 0\n",
      "\n",
      "    Tfactor = -math.log(Tmax / Tmin)\n",
      "    \n",
      "    steps = 1000\n",
      "    for step in range(steps):\n",
      "        T = Tmax * math.exp(Tfactor * step / steps)\n",
      "        move(state)\n",
      "        E = energy(state)\n",
      "        dE = E - prevEnergy\n",
      "        if dE > 0.0 and math.exp(-dE / T) < random.random():\n",
      "            state = prevState[:]\n",
      "            E = prevEnergy\n",
      "        else:\n",
      "            # Accept new state and compare to best state\n",
      "            prevState = state[:]\n",
      "            prevEnergy = E\n",
      "            if E < bestEnergy:\n",
      "                bestState = state[:]\n",
      "                bestEnergy = E\n",
      "                \n",
      "    return bestEnergy\n",
      "\n",
      "# create a distance matrix\n",
      "distance_matrix = {}\n",
      "for ka, va in cities.items():\n",
      "    distance_matrix[ka] = {}\n",
      "    for kb, vb in cities.items():\n",
      "        if kb == ka:\n",
      "            distance_matrix[ka][kb] = 0.0\n",
      "        else:\n",
      "            distance_matrix[ka][kb] = distance(va, vb)\n",
      "\n",
      "iter_max = 200  # Stopping criteria\n",
      "pop_size = 5  # Size of the population\n",
      "dimensions = 2  # Temperature Max and Min\n",
      "c1 = 2\n",
      "c2 = 2\n",
      "\n",
      "class Particle:\n",
      "    pass\n",
      "    \n",
      "# initialize the particles\n",
      "particles = []\n",
      "for i in range(pop_size):\n",
      "    p = Particle()\n",
      "    p.params = array([random.randrange(1,30000),random.randrange(1,10)])\n",
      "    p.best = p.params\n",
      "    p.fitness = 9999999999\n",
      "    p.v = 0.0\n",
      "    init_state = list(cities.keys())\n",
      "    random.shuffle(init_state)\n",
      "    p.state = init_state\n",
      "    particles.append(p)\n",
      "\n",
      "# let the first particle be the global best\n",
      "gbest = particles[0]\n",
      "\n",
      "while i < iter_max:\n",
      "    for p in particles:\n",
      "        fitness = sim_anneal(p)\n",
      "\n",
      "        if fitness < p.fitness:\n",
      "            p.fitness = fitness\n",
      "            p.best = p.params\n",
      "            print \"Better fitness: {0} - {1}\".format(p.fitness, p.params)\n",
      "\n",
      "        if fitness < gbest.fitness:\n",
      "            gbest = p\n",
      "        \n",
      "        #print 'params: %s, fitness: %s, best: %s' % (p.params, p.fitness, p.best)\n",
      "        v = p.v + c1 * random.random() * (p.best - p.params) + c2 * random.random() * (gbest.params - p.params)\n",
      "        p.params = p.params + abs(v)\n",
      "    i += 1\n",
      "    \n",
      "for p in particles:\n",
      "    print 'params: %s, fitness: %s, best: %s' % (p.params, p.fitness, p.best)\n",
      "\n",
      "print \"\\n%%%%%%%%%%%%%%%\"\n",
      "print 'Best solution: {0} - {1}'.format(gbest.fitness, gbest.params)\n"
     ],
     "language": "python",
     "metadata": {},
     "outputs": [
      {
       "output_type": "stream",
       "stream": "stdout",
       "text": [
        "Better fitness: 4109.38248856 - [16249     2]\n",
        "Better fitness: 4223.67604417 - [24195     3]\n",
        "Better fitness: 3878.88347938 - [24632     3]"
       ]
      },
      {
       "output_type": "stream",
       "stream": "stdout",
       "text": [
        "\n",
        "Better fitness: 4260.82975148 - [9653    3]\n",
        "Better fitness: 4248.6649595 - [17298     3]"
       ]
      },
      {
       "output_type": "stream",
       "stream": "stdout",
       "text": [
        "\n",
        "Better fitness: 4239.86265275 - [  2.28942599e+04   3.00000000e+00]"
       ]
      },
      {
       "output_type": "stream",
       "stream": "stdout",
       "text": [
        "\n",
        "Better fitness: 4131.93160928 - [  2.49778041e+04   3.00000000e+00]\n",
        "Better fitness: 4194.1069459 - [  2.52630906e+04   3.00000000e+00]"
       ]
      },
      {
       "output_type": "stream",
       "stream": "stdout",
       "text": [
        "\n",
        "Better fitness: 3965.82973463 - [  2.52936059e+04   3.00000000e+00]\n",
        "Better fitness: 3763.28401415 - [  4.34548645e+04   5.24536139e+00]\n",
        "Better fitness: 3795.11803737 - [  2.46320000e+04   3.00000000e+00]"
       ]
      },
      {
       "output_type": "stream",
       "stream": "stdout",
       "text": [
        "\n",
        "Better fitness: 4075.20508027 - [  4.02337157e+04   4.82965976e+00]"
       ]
      },
      {
       "output_type": "stream",
       "stream": "stdout",
       "text": [
        "\n",
        "Better fitness: 4055.92052077 - [  4.34705518e+04   5.24738589e+00]"
       ]
      },
      {
       "output_type": "stream",
       "stream": "stdout",
       "text": [
        "\n",
        "Better fitness: 4019.37374594 - [  8.05497311e+04   1.00325964e+01]"
       ]
      },
      {
       "output_type": "stream",
       "stream": "stdout",
       "text": [
        "\n",
        "Better fitness: 3665.27014529 - [  4.34548645e+04   5.24536139e+00]"
       ]
      },
      {
       "output_type": "stream",
       "stream": "stdout",
       "text": [
        "\n",
        "Better fitness: 3632.44441635 - [  4.34548645e+04   5.24536139e+00]"
       ]
      },
      {
       "output_type": "stream",
       "stream": "stdout",
       "text": [
        "\n",
        "params: [  4.34548645e+04   5.24536139e+00], fitness: 3632.44441635, best: [  4.34548645e+04   5.24536139e+00]"
       ]
      },
      {
       "output_type": "stream",
       "stream": "stdout",
       "text": [
        "\n",
        "params: [  4.54740782e+90   5.87576146e+86], fitness: 4223.67604417, best: [24195     3]\n",
        "params: [  1.59725147e+92   1.90534590e+88], fitness: 3795.11803737, best: [  2.46320000e+04   3.00000000e+00]\n",
        "params: [  7.53300166e+87   9.72162801e+83], fitness: 4019.37374594, best: [  8.05497311e+04   1.00325964e+01]\n",
        "params: [  5.58144198e+93   7.17058298e+89], fitness: 3965.82973463, best: [  2.52936059e+04   3.00000000e+00]\n",
        "\n",
        "%%%%%%%%%%%%%%%\n",
        "Best solution: 3632.44441635 - [  4.34548645e+04   5.24536139e+00]\n"
       ]
      }
     ],
     "prompt_number": 2
    },
    {
     "cell_type": "code",
     "collapsed": false,
     "input": [],
     "language": "python",
     "metadata": {},
     "outputs": []
    }
   ],
   "metadata": {}
  }
 ]
}